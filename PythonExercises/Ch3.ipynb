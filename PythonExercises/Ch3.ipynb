{
  "metadata": {
    "language_info": {
      "codemirror_mode": {
        "name": "python",
        "version": 3
      },
      "file_extension": ".py",
      "mimetype": "text/x-python",
      "name": "python",
      "nbconvert_exporter": "python",
      "pygments_lexer": "ipython3",
      "version": "3.8"
    },
    "kernelspec": {
      "name": "python",
      "display_name": "Python (Pyodide)",
      "language": "python"
    }
  },
  "nbformat_minor": 4,
  "nbformat": 4,
  "cells": [
    {
      "cell_type": "markdown",
      "source": "### Problems: 3-1, 3-2, 3-3, 3-4, 3-5, 3-6, 3-7, 3-8",
      "metadata": {}
    },
    {
      "cell_type": "markdown",
      "source": "## 3-1. Names",
      "metadata": {}
    },
    {
      "cell_type": "code",
      "source": "# 3-1\nnames = [\"Chobi\", \"Chocolat\", \"Skookuri\", \"Milky\", \"Chokori\", \"Kiri\", \"Blaze\", \"Mookuri\", \"Zungri\"]\nfor i in names: \n    print(i)",
      "metadata": {
        "trusted": true
      },
      "execution_count": 2,
      "outputs": [
        {
          "name": "stdout",
          "text": "Chobi\nChocolat\nSkookuri\nMilky\nChokori\nKiri\nBlaze\nMookuri\nZungri\n",
          "output_type": "stream"
        }
      ]
    },
    {
      "cell_type": "markdown",
      "source": "## 3-2. Greetings",
      "metadata": {}
    },
    {
      "cell_type": "code",
      "source": "# 3-2\nfor i in names:\n    print(\"Bedtime for Bonzo, \" + i + \"!\")",
      "metadata": {
        "trusted": true
      },
      "execution_count": 3,
      "outputs": [
        {
          "name": "stdout",
          "text": "Bedtime for Bonzo, Chobi!\nBedtime for Bonzo, Chocolat!\nBedtime for Bonzo, Skookuri!\nBedtime for Bonzo, Milky!\nBedtime for Bonzo, Chokori!\nBedtime for Bonzo, Kiri!\nBedtime for Bonzo, Blaze!\nBedtime for Bonzo, Mookuri!\nBedtime for Bonzo, Zungri!\n",
          "output_type": "stream"
        }
      ]
    },
    {
      "cell_type": "markdown",
      "source": "## 3-3. Your Own List",
      "metadata": {}
    },
    {
      "cell_type": "code",
      "source": "# 3-3\nmovers = [\"gondola\", \"skis\", \"ATV\", \"snowmobile\", \"bicycle\"]\nfor i in movers:\n    print(\"Oh boy I cant wait to skedaddle over on my \" + i + \" to Billy Bob's house!\")\nprint(\"I love riding the \" + movers[0] + \" whenever I go away to use my \" + movers[1] + \"!\") \nprint(movers[2] + \"s or \" + movers[3] + \"s, both are really fun for the woods but I don't like riding my \" + movers[4] + \" in there.\")",
      "metadata": {
        "trusted": true
      },
      "execution_count": 4,
      "outputs": [
        {
          "name": "stdout",
          "text": "Oh boy I cant wait to skedaddle over on my gondola to Billy Bob's house!\nOh boy I cant wait to skedaddle over on my skis to Billy Bob's house!\nOh boy I cant wait to skedaddle over on my ATV to Billy Bob's house!\nOh boy I cant wait to skedaddle over on my snowmobile to Billy Bob's house!\nOh boy I cant wait to skedaddle over on my bicycle to Billy Bob's house!\nI love riding the gondola whenever I go away to use my skis!\nATVs or snowmobiles, both are really fun for the woods but I don't like riding my bicycle in there.\n",
          "output_type": "stream"
        }
      ]
    },
    {
      "cell_type": "markdown",
      "source": "## 3-4. Guest List",
      "metadata": {}
    },
    {
      "cell_type": "code",
      "source": "# 3-4\nguests = [\"Taniel\", \"Graniel\", \"Saniel\"]\nfor i in guests:\n    print(\"Come over tonight for dinner, \" + i + \".\")",
      "metadata": {
        "trusted": true
      },
      "execution_count": 5,
      "outputs": [
        {
          "name": "stdout",
          "text": "Come over tonight for dinner, Taniel.\nCome over tonight for dinner, Graniel.\nCome over tonight for dinner, Saniel.\n",
          "output_type": "stream"
        }
      ]
    },
    {
      "cell_type": "markdown",
      "source": "## 3-5. Changing Guest List",
      "metadata": {}
    },
    {
      "cell_type": "code",
      "source": "print(\"Apparently \" + guests[0] + \" can't make it tonight.\")\nguests[0] = \"Chobi\"\nfor i in guests:\n    print(\"The rest of you should still come over, and that means you, \" + i + \".\")",
      "metadata": {
        "trusted": true
      },
      "execution_count": 6,
      "outputs": [
        {
          "name": "stdout",
          "text": "Apparently Taniel can't make it tonight.\nThe rest of you should still come over, and that means you, Chobi.\nThe rest of you should still come over, and that means you, Graniel.\nThe rest of you should still come over, and that means you, Saniel.\n",
          "output_type": "stream"
        }
      ]
    },
    {
      "cell_type": "markdown",
      "source": "## 3-6. More Guests",
      "metadata": {}
    },
    {
      "cell_type": "code",
      "source": "# 3-6\nprint(\"I found an even bigger dinner table, so we can fit more!\")\nguests.insert(0, \"Skookuri\")\nguests.insert(2, \"Chocolat\")\nguests.append(\"Milky\")\nfor i in guests:\n    print(\"Okay, you, yes you, \" + i +\", should really come over now so that the food doesn't get cold.\")",
      "metadata": {
        "trusted": true
      },
      "execution_count": 7,
      "outputs": [
        {
          "name": "stdout",
          "text": "I found an even bigger dinner table, so we can fit more!\nOkay, you, yes you, Skookuri, should really come over now so that the food doesn't get cold.\nOkay, you, yes you, Chobi, should really come over now so that the food doesn't get cold.\nOkay, you, yes you, Chocolat, should really come over now so that the food doesn't get cold.\nOkay, you, yes you, Graniel, should really come over now so that the food doesn't get cold.\nOkay, you, yes you, Saniel, should really come over now so that the food doesn't get cold.\nOkay, you, yes you, Milky, should really come over now so that the food doesn't get cold.\n",
          "output_type": "stream"
        }
      ]
    },
    {
      "cell_type": "markdown",
      "source": "## 3-7. Shrinking Guest List",
      "metadata": {}
    },
    {
      "cell_type": "code",
      "source": "print(\"Nevermind everyone, I can only invite 2 people. That means I have to get rid of some of you guys unfortunately, sorry!\")\nwhile len(guests) > 2:\n    goneGuest = guests.pop();\n    print(\"Sorry, \" + goneGuest + \", you're uninvited. Maybe next time!\")\nfor i in guests:\n    print(\"You, \" + i + \", are still invited, by the way.\")\ndel guests[:]\nprint(\"Nevermind! I'm getting rid of you guys too. Lets check who we have left.\")\nprint(guests)",
      "metadata": {
        "trusted": true
      },
      "execution_count": 8,
      "outputs": [
        {
          "name": "stdout",
          "text": "Nevermind everyone, I can only invite 2 people. That means I have to get rid of some of you guys unfortunately, sorry!\nSorry, Milky, you're uninvited. Maybe next time!\nSorry, Saniel, you're uninvited. Maybe next time!\nSorry, Graniel, you're uninvited. Maybe next time!\nSorry, Chocolat, you're uninvited. Maybe next time!\nYou, Skookuri, are still invited, by the way.\nYou, Chobi, are still invited, by the way.\nNevermind! I'm getting rid of you guys too. Lets check who we have left.\n[]\n",
          "output_type": "stream"
        }
      ]
    },
    {
      "cell_type": "markdown",
      "source": "## 3-8. Seeing the World",
      "metadata": {}
    },
    {
      "cell_type": "code",
      "source": "# 3-8\nlocations = [\"kyouto\", \"interlaken\", \"kashmir\", \"oaxaca\"]\nprint(locations)\n\nprint(\"\\nSorted version: \")\nprint(sorted(locations))\n\nprint(\"\\nOriginal version: \")\nprint(locations)\n\nprint(\"\\nReverse Sorted version: \")\nprint(sorted(locations, reverse=True))\n\nprint(\"\\nOriginal version: \")\nprint(locations)\n\nprint(\"\\nReverse version: \")\nlocations.reverse()\nprint(locations)\n\nprint(\"\\nRe-reverse version: \")\nlocations.reverse()\nprint(locations)\n\nprint(\"\\nSort version: \")\nlocations.sort()\nprint(locations)\n\nprint(\"\\nReverse Sort version: \")\nlocations.sort(reverse=True)\nprint(locations)",
      "metadata": {
        "trusted": true
      },
      "execution_count": 9,
      "outputs": [
        {
          "name": "stdout",
          "text": "['kyouto', 'interlaken', 'kashmir', 'oaxaca']\n\nSorted version: \n['interlaken', 'kashmir', 'kyouto', 'oaxaca']\n\nOriginal version: \n['kyouto', 'interlaken', 'kashmir', 'oaxaca']\n\nReverse Sorted version: \n['oaxaca', 'kyouto', 'kashmir', 'interlaken']\n\nOriginal version: \n['kyouto', 'interlaken', 'kashmir', 'oaxaca']\n\nReverse version: \n['oaxaca', 'kashmir', 'interlaken', 'kyouto']\n\nRe-reverse version: \n['kyouto', 'interlaken', 'kashmir', 'oaxaca']\n\nSort version: \n['interlaken', 'kashmir', 'kyouto', 'oaxaca']\n\nReverse Sort version: \n['oaxaca', 'kyouto', 'kashmir', 'interlaken']\n",
          "output_type": "stream"
        }
      ]
    }
  ]
}