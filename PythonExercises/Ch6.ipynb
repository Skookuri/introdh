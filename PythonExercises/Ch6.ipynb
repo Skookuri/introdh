{
  "metadata": {
    "language_info": {
      "codemirror_mode": {
        "name": "python",
        "version": 3
      },
      "file_extension": ".py",
      "mimetype": "text/x-python",
      "name": "python",
      "nbconvert_exporter": "python",
      "pygments_lexer": "ipython3",
      "version": "3.8"
    },
    "kernelspec": {
      "name": "python",
      "display_name": "Python (Pyodide)",
      "language": "python"
    }
  },
  "nbformat_minor": 4,
  "nbformat": 4,
  "cells": [
    {
      "cell_type": "markdown",
      "source": "### Problems: 6-1, 6-2, 6-3, 6-4, 6-5, 6-7, 6-8, 6-9, 6-11",
      "metadata": {}
    },
    {
      "cell_type": "markdown",
      "source": "## 6-1. Person",
      "metadata": {}
    },
    {
      "cell_type": "code",
      "source": "# 6-1\nperson = {\n    'fname' : 'Alyssa',\n    'lname' : 'Williams',\n    'age' : 21,\n    'city' : 'Medford',\n}\n\nprint(\"My name is \" + person['fname'] + \" \" + person['lname'] + \" and I am \" + str(person['age']) + \" years old living in \" + person['city'] + \".\")",
      "metadata": {
        "trusted": true
      },
      "execution_count": 2,
      "outputs": [
        {
          "name": "stdout",
          "text": "My name is Alyssa Williams and I am 21 years old living in Medford.\n",
          "output_type": "stream"
        }
      ]
    },
    {
      "cell_type": "markdown",
      "source": "## 6-2. Favorite Numbers",
      "metadata": {}
    },
    {
      "cell_type": "code",
      "source": "# 6-2\nfavnum = {\n    'alyssa': 2,\n    'bob': 18,\n    'billy': 25,\n    'billybob': 1,\n    'robert': 3,\n}\n\nfor namething, numthing in favnum.items():\n    print(\"I'm \" + namething.capitalize() + \" and my favorite number is \" + str(numthing) + \".\")",
      "metadata": {
        "trusted": true
      },
      "execution_count": 3,
      "outputs": [
        {
          "name": "stdout",
          "text": "I'm Alyssa and my favorite number is 2.\nI'm Bob and my favorite number is 18.\nI'm Billy and my favorite number is 25.\nI'm Billybob and my favorite number is 1.\nI'm Robert and my favorite number is 3.\n",
          "output_type": "stream"
        }
      ]
    },
    {
      "cell_type": "markdown",
      "source": "## 6-3. Glossary",
      "metadata": {}
    },
    {
      "cell_type": "code",
      "source": "# 6-3\ncoding = {\n    'loop': \"repeating pattern of code\",\n    'dictionary': \"collection of key-value pairs\",\n    'value': \"information associated with a variable\",\n    'ifStatement': \"checks for a condition\",\n    'elif': \"if the first statement fails, checks for another solution\",\n}\n\nfor word, meaning in coding.items():\n    print(word + \":\")\n    print(meaning + \"\\n\")",
      "metadata": {
        "trusted": true
      },
      "execution_count": 4,
      "outputs": [
        {
          "name": "stdout",
          "text": "loop:\nrepeating pattern of code\n\ndictionary:\ncollection of key-value pairs\n\nvalue:\ninformation associated with a variable\n\nifStatement:\nchecks for a condition\n\nelif:\nif the first statement fails, checks for another solution\n\n",
          "output_type": "stream"
        }
      ]
    },
    {
      "cell_type": "markdown",
      "source": "## 6-4. Glossary 2",
      "metadata": {}
    },
    {
      "cell_type": "code",
      "source": "# 6-4\ncoding = {\n    'loop': \"repeating pattern of code\",\n    'dictionary': \"collection of key-value pairs\",\n    'value': \"information associated with a variable\",\n    'ifStatement': \"checks for a condition\",\n    'elif': \"if the first statement fails, checks for another solution\",\n    'function': \"reusable block of code that performs a specific task\",\n    'list': \"ordered collection of elements that can be of any data type\",\n    'module': \"file containing Python code and definitions\",\n    'variable': \"container for storing data or values\",\n    'boolean': \"data type that can have one of two values, True/False\",\n}\n\nfor word, meaning in coding.items():\n    print(word + \":\")\n    print(meaning + \"\\n\")",
      "metadata": {
        "trusted": true
      },
      "execution_count": 5,
      "outputs": [
        {
          "name": "stdout",
          "text": "loop:\nrepeating pattern of code\n\ndictionary:\ncollection of key-value pairs\n\nvalue:\ninformation associated with a variable\n\nifStatement:\nchecks for a condition\n\nelif:\nif the first statement fails, checks for another solution\n\nfunction:\nreusable block of code that performs a specific task\n\nlist:\nordered collection of elements that can be of any data type\n\nmodule:\nfile containing Python code and definitions\n\nvariable:\ncontainer for storing data or values\n\nboolean:\ndata type that can have one of two values, True/False\n\n",
          "output_type": "stream"
        }
      ]
    },
    {
      "cell_type": "markdown",
      "source": "## 6-5. Rivers",
      "metadata": {}
    },
    {
      "cell_type": "code",
      "source": "# 6-5\nrivers = {\n    'Volga': 'Russia',\n    'Irrawaddy': 'Myanmar',\n    'Tocantins': 'Brazil',\n}\n\nfor river, country in rivers.items():\n    print(\"The \" + river +\" runs through \" + country + \".\")\n\nprint(\"\\nRivers:\")\nfor river in rivers.keys():\n    print(river)\n\nprint(\"\\nCountries:\")\nfor country in rivers.values():\n    print(country)",
      "metadata": {
        "trusted": true
      },
      "execution_count": 6,
      "outputs": [
        {
          "name": "stdout",
          "text": "The Volga runs through Russia.\nThe Irrawaddy runs through Myanmar.\nThe Tocantins runs through Brazil.\n\nRivers:\nVolga\nIrrawaddy\nTocantins\n\nCountries:\nRussia\nMyanmar\nBrazil\n",
          "output_type": "stream"
        }
      ]
    },
    {
      "cell_type": "markdown",
      "source": "## 6-7. People",
      "metadata": {}
    },
    {
      "cell_type": "code",
      "source": "person = {\n    'fname' : 'Alyssa',\n    'lname' : 'Williams',\n    'age' : 21,\n    'city' : 'Medford',\n}\n\n# 6-7\nperson2 = {\n    'fname': 'John',\n    'lname': 'Doe',\n    'age': 20,\n    'city': 'Boston',\n}\n\nperson3 = {\n    'fname': 'Jane',\n    'lname': 'Dough',\n    'age': 22,\n    'city': 'Somerville',\n}\n\npeople = [person, person2, person3] #list\nfor x in people:\n    print(\"My name is \" + x['fname'] + \" \" + x['lname'] + \" and I am \" + str(x['age']) + \" years old living in \" + x['city'] + \".\")",
      "metadata": {
        "trusted": true
      },
      "execution_count": 7,
      "outputs": [
        {
          "name": "stdout",
          "text": "My name is Alyssa Williams and I am 21 years old living in Medford.\nMy name is John Doe and I am 20 years old living in Boston.\nMy name is Jane Dough and I am 22 years old living in Somerville.\n",
          "output_type": "stream"
        }
      ]
    },
    {
      "cell_type": "markdown",
      "source": "## 6-8. Pets",
      "metadata": {}
    },
    {
      "cell_type": "code",
      "source": "# 6-8\nchobi = {\n    'name': 'Chobi',\n    'kind': 'ferret',\n    'owner': 'Alyssa',\n}\n\ncoco = {\n    'name': 'Coco',\n    'kind': 'cat',\n    'owner': 'Alyssa',\n}\n\nespresso = {\n    'name': 'Espresso',\n    'kind': 'ferret',\n    'owner': 'Jamie',\n}\n\ntwitch = {\n    'name': 'Twitch',\n    'kind': 'ferret',\n    'owner': 'Devan',\n}\n\nkoji = {\n    'name': 'Koji',\n    'kind': 'cat',\n    'owner': 'Devan',\n}\n\npets = [chobi, coco, espresso, twitch, koji]\nfor pet in pets:\n    print(\"My pet is named \" + pet['name'] + \" and it is a \" + pet['kind'] + \" and it is owned by \" + pet['owner'] + \".\")",
      "metadata": {
        "trusted": true
      },
      "execution_count": 8,
      "outputs": [
        {
          "name": "stdout",
          "text": "My pet is named Chobi and it is a ferret and it is owned by Alyssa.\nMy pet is named Coco and it is a cat and it is owned by Alyssa.\nMy pet is named Espresso and it is a ferret and it is owned by Jamie.\nMy pet is named Twitch and it is a ferret and it is owned by Devan.\nMy pet is named Koji and it is a cat and it is owned by Devan.\n",
          "output_type": "stream"
        }
      ]
    },
    {
      "cell_type": "markdown",
      "source": "## 6-9. Favorite Places",
      "metadata": {}
    },
    {
      "cell_type": "code",
      "source": "# 6-9\nfavoritePlaces = {\n    'Billybob': ['Venice', 'Paris', 'Shanghai'],\n    'Bob': ['Madrid', 'Lisbon', 'Lagos'],\n    'Bill': ['Buenos Aires', 'Toronto', 'Seoul'],\n}\n\nfor person, places in favoritePlaces.items():\n    print(\"The favorite places of \" + person + \" are: \" + ', '.join(places))",
      "metadata": {
        "trusted": true
      },
      "execution_count": 9,
      "outputs": [
        {
          "name": "stdout",
          "text": "The favorite places of Billybob are: Venice, Paris, Shanghai\nThe favorite places of Bob are: Madrid, Lisbon, Lagos\nThe favorite places of Bill are: Buenos Aires, Toronto, Seoul\n",
          "output_type": "stream"
        }
      ]
    },
    {
      "cell_type": "markdown",
      "source": "## 6-11. Cities",
      "metadata": {}
    },
    {
      "cell_type": "code",
      "source": "# 6-11\ncities = {\n    'New York': {\n        'country': 'USA',\n        'population': 8398748,\n        'fact': 'The Statue of Liberty is located in New York Harbor.'\n    },\n    'Paris': {\n        'country': 'France',\n        'population': 2140526,\n        'fact': 'The Eiffel Tower was completed in 1889.'\n    },\n    'Tokyo': {\n        'country': 'Japan',\n        'population': 13929286,\n        'fact': 'Tokyo is the largest city in Japan.'\n    }\n}\n\nfor city, cityInfo in cities.items():\n    print(\"City: \" + city)\n    print(\"Country: \" + cityInfo['country'])\n    print(\"Population: \" + str(cityInfo['population']))\n    print(\"Fact: \" + cityInfo['fact'])\n    print()",
      "metadata": {
        "trusted": true
      },
      "execution_count": 10,
      "outputs": [
        {
          "name": "stdout",
          "text": "City: New York\nCountry: USA\nPopulation: 8398748\nFact: The Statue of Liberty is located in New York Harbor.\n\nCity: Paris\nCountry: France\nPopulation: 2140526\nFact: The Eiffel Tower was completed in 1889.\n\nCity: Tokyo\nCountry: Japan\nPopulation: 13929286\nFact: Tokyo is the largest city in Japan.\n\n",
          "output_type": "stream"
        }
      ]
    },
    {
      "cell_type": "code",
      "source": "",
      "metadata": {},
      "execution_count": null,
      "outputs": []
    }
  ]
}