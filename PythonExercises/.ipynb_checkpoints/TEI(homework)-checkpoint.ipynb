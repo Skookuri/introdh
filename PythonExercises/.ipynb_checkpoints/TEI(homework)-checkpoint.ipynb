{
  "nbformat": 4,
  "nbformat_minor": 0,
  "metadata": {
    "colab": {
      "provenance": []
    },
    "kernelspec": {
      "name": "python3",
      "display_name": "Python 3"
    },
    "language_info": {
      "name": "python"
    }
  },
  "cells": [
    {
      "cell_type": "markdown",
      "source": [
        "# Parsing a TEI Document - Homework"
      ],
      "metadata": {
        "id": "VbIn_1X8qeYs"
      }
    },
    {
      "cell_type": "markdown",
      "source": [
        "## Directions\n",
        "\n",
        "Parse the tei of Gibbon's _Decline and Fall_ to extract all the **marginal notes**. (XML file provided)\n",
        "1. Extract all marginal notes\n",
        "2. Remove extraneous whitespace\n",
        "3. Place marginal notes in a dataframe\n",
        "4. Save teh dataframe as a csv file\n"
      ],
      "metadata": {
        "id": "nY5ryOZ4qxFv"
      }
    },
    {
      "cell_type": "markdown",
      "source": [
        "## Hint\n",
        "\n",
        "Here is a snippet of what a marginal note in the xml document looks like:\n",
        "\n",
        "`<note place=\"margin\">A. D. 268. March 20. Death of Gallienus.</note>`\n",
        "\n",
        "These are different from the footnotes that we saw in class in that (a) they do not have numbers and (b) the white space is different. You are free to accomodate for that however you would like."
      ],
      "metadata": {
        "id": "NbEOJNWP09gl"
      }
    },
    {
      "cell_type": "markdown",
      "source": [
        "### Set up"
      ],
      "metadata": {
        "id": "ZqVqsq7Tv0ck"
      }
    },
    {
      "cell_type": "code",
      "source": [
        "# ! pip install beatifulsoup4"
      ],
      "metadata": {
        "id": "ax5j3yg4rUfB"
      },
      "execution_count": null,
      "outputs": []
    },
    {
      "cell_type": "code",
      "execution_count": null,
      "metadata": {
        "id": "B2P2mAYSqRbQ"
      },
      "outputs": [],
      "source": [
        "from bs4 import BeautifulSoup\n",
        "import requests\n",
        "import pandas as pd"
      ]
    },
    {
      "cell_type": "code",
      "source": [
        "# load xml file\n",
        "url = \"https://raw.githubusercontent.com/msaxton/nlp-data/main/gibbon.xml\"\n"
      ],
      "metadata": {
        "id": "pVItKZ2GrBur"
      },
      "execution_count": null,
      "outputs": []
    },
    {
      "cell_type": "markdown",
      "source": [
        "### Parse TEI"
      ],
      "metadata": {
        "id": "hVe0pze-v36X"
      }
    },
    {
      "cell_type": "code",
      "source": [
        "# use BeautifulSoup to creat an xml object\n"
      ],
      "metadata": {
        "id": "UzS5qa_Y96h2"
      },
      "execution_count": null,
      "outputs": []
    },
    {
      "cell_type": "code",
      "source": [
        "# find all footnotes\n"
      ],
      "metadata": {
        "id": "R6EMEBs5-dUn"
      },
      "execution_count": null,
      "outputs": []
    },
    {
      "cell_type": "code",
      "source": [
        "# remove extra space (if needed)"
      ],
      "metadata": {
        "id": "eMr8NOYtrADL"
      },
      "execution_count": null,
      "outputs": []
    },
    {
      "cell_type": "code",
      "source": [
        "# prepare data for dataframe\n"
      ],
      "metadata": {
        "id": "wK7f7hBmsZdl"
      },
      "execution_count": null,
      "outputs": []
    },
    {
      "cell_type": "code",
      "source": [
        "# convert to dataframe\n"
      ],
      "metadata": {
        "id": "OM4Ds7xluW4v"
      },
      "execution_count": null,
      "outputs": []
    },
    {
      "cell_type": "code",
      "source": [
        "# save dataframe as csv\n"
      ],
      "metadata": {
        "id": "FSI4PUQzujoQ"
      },
      "execution_count": null,
      "outputs": []
    }
  ]
}