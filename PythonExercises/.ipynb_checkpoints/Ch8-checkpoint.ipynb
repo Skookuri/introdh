{
  "metadata": {
    "language_info": {
      "codemirror_mode": {
        "name": "python",
        "version": 3
      },
      "file_extension": ".py",
      "mimetype": "text/x-python",
      "name": "python",
      "nbconvert_exporter": "python",
      "pygments_lexer": "ipython3",
      "version": "3.8"
    },
    "kernelspec": {
      "name": "python",
      "display_name": "Python (Pyodide)",
      "language": "python"
    }
  },
  "nbformat_minor": 4,
  "nbformat": 4,
  "cells": [
    {
      "cell_type": "markdown",
      "source": "### Problems: 8-1, 8-2, 8-3, 8-5, 8-6, 8-7",
      "metadata": {}
    },
    {
      "cell_type": "markdown",
      "source": "## 8-1. Message",
      "metadata": {}
    },
    {
      "cell_type": "code",
      "source": "# 8-1\ndef display_message():\n    print(\"I am learning about functions\")\ndisplay_message()",
      "metadata": {
        "trusted": true
      },
      "execution_count": null,
      "outputs": []
    },
    {
      "cell_type": "markdown",
      "source": "## 8-2. Favorite Book",
      "metadata": {}
    },
    {
      "cell_type": "code",
      "source": "# 8-2\ndef favorite_book(title):\n    print(\"One of my favorite books is \" + title + \".\")\nfavorite_book(\"The Iliad\")",
      "metadata": {
        "trusted": true
      },
      "execution_count": null,
      "outputs": []
    },
    {
      "cell_type": "markdown",
      "source": "## 8-3. T-Shirt",
      "metadata": {}
    },
    {
      "cell_type": "code",
      "source": "# 8-3\ndef make_shirt(size, message):\n    print(\"Your shirt is size \" + size + \" and has the message: '\" + message + \"' on it.\")\nmake_shirt(\"small\", \"The quick brown fox jumped over the lazy dog\")\nmake_shirt(message=\"The quick brown fox jumped over the lazy dog\", size=\"small\")",
      "metadata": {
        "trusted": true
      },
      "execution_count": null,
      "outputs": []
    },
    {
      "cell_type": "markdown",
      "source": "## 8-5. Cities",
      "metadata": {}
    },
    {
      "cell_type": "code",
      "source": "# 8-5\ndef describe_city(city=\"Mishima\", country=\"Japan\"):\n    print(\"The city of \" + city + \" is in \" + country + \".\")\ndescribe_city()\ndescribe_city(\"Adrianople\", \"Turkey\")\ndescribe_city(\"Swansea\", \"Wales\")",
      "metadata": {
        "trusted": true
      },
      "execution_count": null,
      "outputs": []
    },
    {
      "cell_type": "markdown",
      "source": "## 8-6. City Names",
      "metadata": {}
    },
    {
      "cell_type": "code",
      "source": "# 8-6\ndef city_country(city, country):\n    return '\\\"' + city + ', ' + country + '\\\"'\nprint(city_country(\"Mishima\", \"Japan\"))\nprint(city_country(\"Adrianople\", \"Turkey\"))\nprint(city_country(\"Swansea\", \"Wales\"))",
      "metadata": {
        "trusted": true
      },
      "execution_count": null,
      "outputs": []
    },
    {
      "cell_type": "markdown",
      "source": "## 8-7. Album",
      "metadata": {}
    },
    {
      "cell_type": "code",
      "source": "# 8-7\ndef make_album(artist, albumTitle, tracks=1):\n    return {albumTitle:(artist, tracks)}\nprint(make_album(\"The Marías\", \"Superclean, Vol. 1\", 6))\nprint(make_album(\"The Marías\", \"Superclean, Vol. 2\", 6))\nprint(make_album(\"The Marías\", \"CINEMA\", 13))",
      "metadata": {
        "trusted": true
      },
      "execution_count": null,
      "outputs": []
    }
  ]
}