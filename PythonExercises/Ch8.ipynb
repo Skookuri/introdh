{
 "cells": [
  {
   "cell_type": "markdown",
   "metadata": {},
   "source": [
    "### Problems: 8-1, 8-2, 8-3, 8-5, 8-6, 8-7"
   ]
  },
  {
   "cell_type": "markdown",
   "metadata": {},
   "source": [
    "## 8-1. Message"
   ]
  },
  {
   "cell_type": "code",
   "execution_count": 1,
   "metadata": {},
   "outputs": [
    {
     "name": "stdout",
     "output_type": "stream",
     "text": [
      "I am learning about functions\n"
     ]
    }
   ],
   "source": [
    "# 8-1\n",
    "def display_message():\n",
    "    print(\"I am learning about functions\")\n",
    "display_message()"
   ]
  },
  {
   "cell_type": "markdown",
   "metadata": {},
   "source": [
    "## 8-2. Favorite Book"
   ]
  },
  {
   "cell_type": "code",
   "execution_count": 2,
   "metadata": {},
   "outputs": [
    {
     "name": "stdout",
     "output_type": "stream",
     "text": [
      "One of my favorite books is The Iliad.\n"
     ]
    }
   ],
   "source": [
    "# 8-2\n",
    "def favorite_book(title):\n",
    "    print(\"One of my favorite books is \" + title + \".\")\n",
    "favorite_book(\"The Iliad\")"
   ]
  },
  {
   "cell_type": "markdown",
   "metadata": {},
   "source": [
    "## 8-3. T-Shirt"
   ]
  },
  {
   "cell_type": "code",
   "execution_count": 3,
   "metadata": {},
   "outputs": [
    {
     "name": "stdout",
     "output_type": "stream",
     "text": [
      "Your shirt is size small and has the message: 'The quick brown fox jumped over the lazy dog' on it.\n",
      "Your shirt is size small and has the message: 'The quick brown fox jumped over the lazy dog' on it.\n"
     ]
    }
   ],
   "source": [
    "# 8-3\n",
    "def make_shirt(size, message):\n",
    "    print(\"Your shirt is size \" + size + \" and has the message: '\" + message + \"' on it.\")\n",
    "make_shirt(\"small\", \"The quick brown fox jumped over the lazy dog\")\n",
    "make_shirt(message=\"The quick brown fox jumped over the lazy dog\", size=\"small\")"
   ]
  },
  {
   "cell_type": "markdown",
   "metadata": {},
   "source": [
    "## 8-5. Cities"
   ]
  },
  {
   "cell_type": "code",
   "execution_count": 4,
   "metadata": {},
   "outputs": [
    {
     "name": "stdout",
     "output_type": "stream",
     "text": [
      "The city of Mishima is in Japan.\n",
      "The city of Adrianople is in Turkey.\n",
      "The city of Swansea is in Wales.\n"
     ]
    }
   ],
   "source": [
    "# 8-5\n",
    "def describe_city(city=\"Mishima\", country=\"Japan\"):\n",
    "    print(\"The city of \" + city + \" is in \" + country + \".\")\n",
    "describe_city()\n",
    "describe_city(\"Adrianople\", \"Turkey\")\n",
    "describe_city(\"Swansea\", \"Wales\")"
   ]
  },
  {
   "cell_type": "markdown",
   "metadata": {},
   "source": [
    "## 8-6. City Names"
   ]
  },
  {
   "cell_type": "code",
   "execution_count": 5,
   "metadata": {},
   "outputs": [
    {
     "name": "stdout",
     "output_type": "stream",
     "text": [
      "\"Mishima, Japan\"\n",
      "\"Adrianople, Turkey\"\n",
      "\"Swansea, Wales\"\n"
     ]
    }
   ],
   "source": [
    "# 8-6\n",
    "def city_country(city, country):\n",
    "    return '\\\"' + city + ', ' + country + '\\\"'\n",
    "print(city_country(\"Mishima\", \"Japan\"))\n",
    "print(city_country(\"Adrianople\", \"Turkey\"))\n",
    "print(city_country(\"Swansea\", \"Wales\"))"
   ]
  },
  {
   "cell_type": "markdown",
   "metadata": {},
   "source": [
    "## 8-7. Album"
   ]
  },
  {
   "cell_type": "code",
   "execution_count": 6,
   "metadata": {},
   "outputs": [
    {
     "name": "stdout",
     "output_type": "stream",
     "text": [
      "{'Superclean, Vol. 1': ('The Marías', 6)}\n",
      "{'Superclean, Vol. 2': ('The Marías', 6)}\n",
      "{'CINEMA': ('The Marías', 13)}\n"
     ]
    }
   ],
   "source": [
    "# 8-7\n",
    "def make_album(artist, albumTitle, tracks=1):\n",
    "    return {albumTitle:(artist, tracks)}\n",
    "print(make_album(\"The Marías\", \"Superclean, Vol. 1\", 6))\n",
    "print(make_album(\"The Marías\", \"Superclean, Vol. 2\", 6))\n",
    "print(make_album(\"The Marías\", \"CINEMA\", 13))"
   ]
  }
 ],
 "metadata": {
  "kernelspec": {
   "display_name": "Python 3 (ipykernel)",
   "language": "python",
   "name": "python3"
  },
  "language_info": {
   "codemirror_mode": {
    "name": "ipython",
    "version": 3
   },
   "file_extension": ".py",
   "mimetype": "text/x-python",
   "name": "python",
   "nbconvert_exporter": "python",
   "pygments_lexer": "ipython3",
   "version": "3.11.4"
  }
 },
 "nbformat": 4,
 "nbformat_minor": 4
}
