{
  "metadata": {
    "language_info": {
      "codemirror_mode": {
        "name": "python",
        "version": 3
      },
      "file_extension": ".py",
      "mimetype": "text/x-python",
      "name": "python",
      "nbconvert_exporter": "python",
      "pygments_lexer": "ipython3",
      "version": "3.8"
    },
    "kernelspec": {
      "name": "python",
      "display_name": "Python (Pyodide)",
      "language": "python"
    }
  },
  "nbformat_minor": 4,
  "nbformat": 4,
  "cells": [
    {
      "cell_type": "markdown",
      "source": "### Problems: 5-1, 5-2, 5-6, 5-7, 5-8, 5-9, 5-10",
      "metadata": {}
    },
    {
      "cell_type": "markdown",
      "source": "## 5-1. Conditional Tests",
      "metadata": {}
    },
    {
      "cell_type": "code",
      "source": "# 5-1\nferret = 'chobi'\nprint(\"Is ferret == 'chobi'? I predict True.\")\nprint(ferret == 'chobi')\n\nprint(\"Is ferret == 'matt'? I predict False.\")\nprint(ferret == 'matt')\n\nanswers = {\n    'sky': 'blue',\n    'grass': 'green',\n    'dog': 'bark',\n    'cat': 'meow',\n    'mouse': 'chuu'\n}\n\ntests = [\n    ('sky', 'blue', 'True'),\n    ('sky', 'red', 'False'),\n    \n    ('grass', 'green', 'True'),\n    ('grass', 'lavender', 'False'),\n    \n    ('dog', 'bark', 'True'),\n    ('dog', 'meow', 'False'),\n    \n    ('cat', 'meow', 'True'),\n    ('cat', 'bark', 'False'),\n    \n    ('mouse', 'chuu', 'True'),\n    ('mouse', 'caw', 'False')\n]\n\nfor item, value, prediction in tests:\n    print(\"Is \" + item + \" == '\" + value + \"'? I predict \" + prediction + \".\")\n    print((answers.get(item) == value))",
      "metadata": {
        "trusted": true
      },
      "execution_count": 1,
      "outputs": [
        {
          "name": "stdout",
          "text": "Is ferret == 'chobi'? I predict True.\nTrue\nIs ferret == 'matt'? I predict False.\nFalse\nIs sky == 'blue'? I predict True.\nTrue\nIs sky == 'red'? I predict False.\nFalse\nIs grass == 'green'? I predict True.\nTrue\nIs grass == 'lavender'? I predict False.\nFalse\nIs dog == 'bark'? I predict True.\nTrue\nIs dog == 'meow'? I predict False.\nFalse\nIs cat == 'meow'? I predict True.\nTrue\nIs cat == 'bark'? I predict False.\nFalse\nIs mouse == 'chuu'? I predict True.\nTrue\nIs mouse == 'caw'? I predict False.\nFalse\n",
          "output_type": "stream"
        }
      ]
    },
    {
      "cell_type": "markdown",
      "source": "## 5-2. More Conditional Tests",
      "metadata": {}
    },
    {
      "cell_type": "code",
      "source": "# 5-2\n## string equality/inequality\nstring = 'Skook'\nprint(\"Is string == 'Skook'? I predict True.\")\nprint(string == 'Skook')\n\nprint(\"Is string == 'Skook  '? I predict False.\")\nprint(string == 'Skook  ')\n\n## lower() function\nprint(\"\\nIs string.lower() == 'skook'? I predict True.\")\nprint(string.lower() == 'skook')\n\nprint(\"Is string == 'skook'? I predict False.\")\nprint(string == 'skook')\n\n## number inequality\nnum = 65\nprint(\"\\nIs num == 65? I predict True.\")\nprint(num == 65)\nprint(\"Is num == 64? I predict False.\")\nprint(num == 64)\n\nprint(\"Is num > 64? I predict True.\")\nprint(num > 64)\nprint(\"Is num < 64? I predict False.\")\nprint(num < 64)\n\nprint(\"Is num >= 64? I predict True.\")\nprint(num > 64)\nprint(\"Is num <= 64? I predict False.\")\nprint(num < 64)\n\nprint(\"Is num <= 66? I predict True.\")\nprint(num > 64)\nprint(\"Is num >= 66? I predict False.\")\nprint(num < 64)\n\n## and / or\nprint(\"\\nIs num greater than 61 and less than 70?  I predict True.\")\nprint(num > 61 and num < 70)\n\nprint(\"Is num less than 61 or less than 50?  I predict False.\")\nprint(num < 61 or num < 50)\n\n## item in list\ncolors = [\"pink\", \"yellow\", \"orange\"]\nprint(\"\\nIs 'pink' in colors list? I predict True.\")\nprint('pink' in colors)\n\nprint(\"Is 'purple' in colors list? I predict False.\")\nprint('purple' in colors)\n\n## item not in list\nprint(\"\\nIs 'purple' not in colors list? I predict True.\")\nprint('purple' not in colors)\n\nprint(\"Is 'pink' not in colors list? I predict False.\")\nprint('pink' not in colors)",
      "metadata": {
        "trusted": true
      },
      "execution_count": 2,
      "outputs": [
        {
          "name": "stdout",
          "text": "Is string == 'Skook'? I predict True.\nTrue\nIs string == 'Skook  '? I predict False.\nFalse\n\nIs string.lower() == 'skook'? I predict True.\nTrue\nIs string == 'skook'? I predict False.\nFalse\n\nIs num == 65? I predict True.\nTrue\nIs num == 64? I predict False.\nFalse\nIs num > 64? I predict True.\nTrue\nIs num < 64? I predict False.\nFalse\nIs num >= 64? I predict True.\nTrue\nIs num <= 64? I predict False.\nFalse\nIs num <= 66? I predict True.\nTrue\nIs num >= 66? I predict False.\nFalse\n\nIs num greater than 61 and less than 70?  I predict True.\nTrue\nIs num less than 61 or less than 50?  I predict False.\nFalse\n\nIs 'pink' in colors list? I predict True.\nTrue\nIs 'purple' in colors list? I predict False.\nFalse\n\nIs 'purple' not in colors list? I predict True.\nTrue\nIs 'pink' not in colors list? I predict False.\nFalse\n",
          "output_type": "stream"
        }
      ]
    },
    {
      "cell_type": "markdown",
      "source": "## 5-6.  Stages of Life",
      "metadata": {}
    },
    {
      "cell_type": "code",
      "source": "# 5-6\nage = -100\nprint(\"The person is \", end=\"\")\nif age < 2:\n    print(\"a baby.\")\nelif 2 <= age < 4:\n    print(\"a toddler.\")\nelif 4 <= age < 13:\n    print(\"a kid.\")\nelif 13 <= age < 20:\n    print(\"a teenager.\")\nelif 20 <= age < 65:\n    print(\"an adult.\")\nelse:\n    print(\"an elder.\")",
      "metadata": {
        "trusted": true
      },
      "execution_count": 3,
      "outputs": [
        {
          "name": "stdout",
          "text": "The person is a baby.\n",
          "output_type": "stream"
        }
      ]
    },
    {
      "cell_type": "markdown",
      "source": "## 5-7. Favorite Fruit",
      "metadata": {}
    },
    {
      "cell_type": "code",
      "source": "# 5-7\nfavorite_fruits = [\"lychee\", \"peach\", \"acerola\"]\n\nif \"lychee\" in favorite_fruits:\n    print(\"You really like lychees!\")\n\nif \"peach\" in favorite_fruits:\n    print(\"You really like peaches!\")\n\nif \"acerola\" in favorite_fruits:\n    print(\"You really like acerolas!\")\n\nif \"lemon\" in favorite_fruits:\n    print(\"You really like lemons!\")\n\nif \"melon\" in favorite_fruits:\n    print(\"You really like melons!\")",
      "metadata": {
        "trusted": true
      },
      "execution_count": 4,
      "outputs": [
        {
          "name": "stdout",
          "text": "You really like lychees!\nYou really like peaches!\nYou really like acerolas!\n",
          "output_type": "stream"
        }
      ]
    },
    {
      "cell_type": "markdown",
      "source": "## 5-8. Hello Admin",
      "metadata": {}
    },
    {
      "cell_type": "code",
      "source": "# 5-8\nusers = [\"admin\", \"xX_bob_Xx\", \"sandra.johnson\", \"AmyIsCool\", \"Neil123\"]\n\nfor i in users:\n    if i == \"admin\":\n        print(\"Hello admin, would you like to see a status report?\")\n    else:\n        print(\"Hello \" + i + \", thank you for logging in again!\")",
      "metadata": {
        "trusted": true
      },
      "execution_count": 9,
      "outputs": [
        {
          "name": "stdout",
          "text": "Hello admin, would you like to see a status report?\nHello xX_bob_Xx, thank you for logging in again!\nHello sandra.johnson, thank you for logging in again!\nHello AmyIsCool, thank you for logging in again!\nHello Neil123, thank you for logging in again!\n",
          "output_type": "stream"
        }
      ]
    },
    {
      "cell_type": "markdown",
      "source": "## 5-9. No Users",
      "metadata": {}
    },
    {
      "cell_type": "code",
      "source": "# 5-9\nprint(users)\nif users:\n    print(\"Lets get rid of these users so it's empty\")\n    del users[:]\n    print(users)\n    \nif not users:\n    print(\"We need to find some users!\")",
      "metadata": {
        "trusted": true
      },
      "execution_count": 10,
      "outputs": [
        {
          "name": "stdout",
          "text": "['admin', 'xX_bob_Xx', 'sandra.johnson', 'AmyIsCool', 'Neil123']\nLets get rid of these users so it's empty\n[]\nWe need to find some users!\n",
          "output_type": "stream"
        }
      ]
    },
    {
      "cell_type": "markdown",
      "source": "## 5-10. Checking Usernames",
      "metadata": {}
    },
    {
      "cell_type": "code",
      "source": "# 5-10\ncurrent_users = [\"RodneyCline\", \"JemmaAnderson\", \"TomasRiley\", \"AngelicaLee\", \"SteveHarrison\"]\nnew_users = [\"rodneycline\", \"OliviaSimmons\", \"AngelicaLEE\", \"SofiaBennett\", \"LiamFoster\"]\n\nfor i in new_users:\n    print(\"Searching for \" + i + \"...\")\n    if i.lower() in [user.lower() for user in current_users]:\n        print(\"Uh oh! \" + i + \" already exists! A different, new username will have to be used instead.\")\n    else:\n        print(\"Your new username, \" + i + \", is available!\")",
      "metadata": {
        "trusted": true
      },
      "execution_count": 11,
      "outputs": [
        {
          "name": "stdout",
          "text": "Searching for rodneycline...\nUh oh! rodneycline already exists! A different, new username will have to be used instead.\nSearching for OliviaSimmons...\nYour new username, OliviaSimmons, is available!\nSearching for AngelicaLEE...\nUh oh! AngelicaLEE already exists! A different, new username will have to be used instead.\nSearching for SofiaBennett...\nYour new username, SofiaBennett, is available!\nSearching for LiamFoster...\nYour new username, LiamFoster, is available!\n",
          "output_type": "stream"
        }
      ]
    }
  ]
}