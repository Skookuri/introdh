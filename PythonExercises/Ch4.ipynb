{
  "metadata": {
    "language_info": {
      "codemirror_mode": {
        "name": "python",
        "version": 3
      },
      "file_extension": ".py",
      "mimetype": "text/x-python",
      "name": "python",
      "nbconvert_exporter": "python",
      "pygments_lexer": "ipython3",
      "version": "3.8"
    },
    "kernelspec": {
      "name": "python",
      "display_name": "Python (Pyodide)",
      "language": "python"
    }
  },
  "nbformat_minor": 4,
  "nbformat": 4,
  "cells": [
    {
      "cell_type": "markdown",
      "source": "### Problems: 4-1, 4-2, 4-3, 4-6, 4-10, 4-11",
      "metadata": {}
    },
    {
      "cell_type": "markdown",
      "source": "## 4-1. Pizzas",
      "metadata": {}
    },
    {
      "cell_type": "code",
      "source": "# 4-1\npizzas = [\"cheese\", \"margherita\", \"white\"]\nfor i in pizzas:\n    print(\"Yayyy \" + i + \" pizza is yummy\")\nprint(\"I eat pizza every day I love it so so much.\")\nfor i in pizzas:\n    print(\"One type of pizza I like is \" + i + \" pizza.\")\nprint(\"I really love pizza!\")",
      "metadata": {
        "trusted": true
      },
      "execution_count": 1,
      "outputs": [
        {
          "name": "stdout",
          "text": "Yayyy cheese pizza is yummy\nYayyy margherita pizza is yummy\nYayyy white pizza is yummy\nI eat pizza every day I love it so so much.\nOne type of pizza I like is cheese pizza.\nOne type of pizza I like is margherita pizza.\nOne type of pizza I like is white pizza.\nI really love pizza!\n",
          "output_type": "stream"
        }
      ]
    },
    {
      "cell_type": "markdown",
      "source": "## 4-2. Animals",
      "metadata": {}
    },
    {
      "cell_type": "code",
      "source": "# 4-2\nanimals = [\"ferret\", \"marten\", \"ermine\", \"mink\", \"stoat\"]\n\nfor i in animals:\n    print(\"A \" + i + \" is very cute.\" )\n\nprint(\"All of them are mustelids!\")",
      "metadata": {
        "trusted": true
      },
      "execution_count": 2,
      "outputs": [
        {
          "name": "stdout",
          "text": "A ferret is very cute.\nA marten is very cute.\nA ermine is very cute.\nA mink is very cute.\nA stoat is very cute.\nAll of them are mustelids!\n",
          "output_type": "stream"
        }
      ]
    },
    {
      "cell_type": "markdown",
      "source": "## 4-3. Counting to Twenty",
      "metadata": {}
    },
    {
      "cell_type": "code",
      "source": "# 4-3\nfor i in range(1, 21):\n    print(i)",
      "metadata": {
        "trusted": true
      },
      "execution_count": 3,
      "outputs": [
        {
          "name": "stdout",
          "text": "1\n2\n3\n4\n5\n6\n7\n8\n9\n10\n11\n12\n13\n14\n15\n16\n17\n18\n19\n20\n",
          "output_type": "stream"
        }
      ]
    },
    {
      "cell_type": "markdown",
      "source": "## 4-6. Odd Numbers",
      "metadata": {}
    },
    {
      "cell_type": "code",
      "source": "# 4-6\nfor i in range(1,21,2):\n    print(i)",
      "metadata": {
        "trusted": true
      },
      "execution_count": 4,
      "outputs": [
        {
          "name": "stdout",
          "text": "1\n3\n5\n7\n9\n11\n13\n15\n17\n19\n",
          "output_type": "stream"
        }
      ]
    },
    {
      "cell_type": "markdown",
      "source": "## 4-10. Slices",
      "metadata": {}
    },
    {
      "cell_type": "code",
      "source": "# 4-10\nprint(\"The first three items in the list are:\")\nprint(animals[:3])\n\nprint(\"Three items from the middle of the list are:\")\nmidindex_start = len(animals) // 2 - 1  # Start one item before the middle\nmidindex_end = len(animals) // 2 + 2   # End two items after the middle\nprint(animals[midindex_start:midindex_end])\n\nprint(\"The last three items in the list are:\")\nprint(animals[2:])",
      "metadata": {
        "trusted": true
      },
      "execution_count": 5,
      "outputs": [
        {
          "name": "stdout",
          "text": "The first three items in the list are:\n['ferret', 'marten', 'ermine']\nThree items from the middle of the list are:\n['marten', 'ermine', 'mink']\nThe last three items in the list are:\n['ermine', 'mink', 'stoat']\n",
          "output_type": "stream"
        }
      ]
    },
    {
      "cell_type": "markdown",
      "source": "## 4-11. My Pizzas, Your Pizzas",
      "metadata": {}
    },
    {
      "cell_type": "code",
      "source": "# 4-11\nfriend_pizzas = pizzas.copy()\n\npizzas.append(\"pepperoni\")\nfriend_pizzas.append(\"mushroom\")\nprint(\"My favorite pizzas are:\")\nfor i in pizzas:\n    print(i)\nprint(\"My friend's favorite pizzas are:\")\nfor i in friend_pizzas:\n    print(i)",
      "metadata": {
        "trusted": true
      },
      "execution_count": 6,
      "outputs": [
        {
          "name": "stdout",
          "text": "My favorite pizzas are:\ncheese\nmargherita\nwhite\npepperoni\nMy friend's favorite pizzas are:\ncheese\nmargherita\nwhite\nmushroom\n",
          "output_type": "stream"
        }
      ]
    }
  ]
}