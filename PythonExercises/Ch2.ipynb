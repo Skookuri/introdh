{
  "metadata": {
    "language_info": {
      "codemirror_mode": {
        "name": "python",
        "version": 3
      },
      "file_extension": ".py",
      "mimetype": "text/x-python",
      "name": "python",
      "nbconvert_exporter": "python",
      "pygments_lexer": "ipython3",
      "version": "3.8"
    },
    "kernelspec": {
      "name": "python",
      "display_name": "Python (Pyodide)",
      "language": "python"
    }
  },
  "nbformat_minor": 4,
  "nbformat": 4,
  "cells": [
    {
      "cell_type": "markdown",
      "source": "### Problems: 2-1, 2-2, 2-3, 2-4, 2-5, 2-6, 2-7, 2-10",
      "metadata": {}
    },
    {
      "cell_type": "markdown",
      "source": "## 2-1. Simple Message",
      "metadata": {}
    },
    {
      "cell_type": "code",
      "source": "# 2-1\nmsg = \"Haze like a fever, I fell like a dreamer for sweet tea and lemonade, it clings to my T-shirt, it's loud and it lingers designed to suffocate\"\nprint(msg)",
      "metadata": {
        "trusted": true
      },
      "execution_count": 9,
      "outputs": [
        {
          "name": "stdout",
          "text": "Haze like a fever, I fell like a dreamer for sweet tea and lemonade, it clings to my T-shirt, it's loud and it lingers designed to suffocate\n",
          "output_type": "stream"
        }
      ]
    },
    {
      "cell_type": "markdown",
      "source": "## 2-2. Simple Messages",
      "metadata": {}
    },
    {
      "cell_type": "code",
      "source": "# 2-2\nmsg = \"Evil eye crawling up my spine, walk into my mind, all my life I'm waiting on a sign I can barely find\"\nprint(msg)\n\nmsg = \"Got me feeling like I'm crossing over, a second presence in the corner of my eye\"\nprint(msg)",
      "metadata": {
        "trusted": true
      },
      "execution_count": 10,
      "outputs": [
        {
          "name": "stdout",
          "text": "Evil eye crawling up my spine, walk into my mind, all my life I'm waiting on a sign I can barely find\nGot me feeling like I'm crossing over, a second presence in the corner of my eye\n",
          "output_type": "stream"
        }
      ]
    },
    {
      "cell_type": "markdown",
      "source": "## 2-3. Personal Message",
      "metadata": {}
    },
    {
      "cell_type": "code",
      "source": "# 2-3\nname = \"Geronimo\"\nprint(\"Hey \" + name + \", you look unwell, maybe you should lie down.\")",
      "metadata": {
        "trusted": true
      },
      "execution_count": 11,
      "outputs": [
        {
          "name": "stdout",
          "text": "Hey Geronimo, you look unwell, maybe you should lie down.\n",
          "output_type": "stream"
        }
      ]
    },
    {
      "cell_type": "markdown",
      "source": "## 2-4. Name Cases",
      "metadata": {}
    },
    {
      "cell_type": "code",
      "source": "# 2-4\nname = \"tyler christensen\"\nprint(name.lower())\nprint(name.upper())\nprint(name.title())",
      "metadata": {
        "trusted": true
      },
      "execution_count": 12,
      "outputs": [
        {
          "name": "stdout",
          "text": "tyler christensen\nTYLER CHRISTENSEN\nTyler Christensen\n",
          "output_type": "stream"
        }
      ]
    },
    {
      "cell_type": "markdown",
      "source": "## 2-5. Famous Quote",
      "metadata": {}
    },
    {
      "cell_type": "code",
      "source": "# 2-5\nprint(\"Wayne Gretzky once said: \\\"You miss 100 percent of the shots you don't take.\\\"\")",
      "metadata": {
        "trusted": true
      },
      "execution_count": 13,
      "outputs": [
        {
          "name": "stdout",
          "text": "Wayne Gretzky once said: \"You miss 100 percent of the shots you don't take.\"\n",
          "output_type": "stream"
        }
      ]
    },
    {
      "cell_type": "markdown",
      "source": "## 2-6. Famous Quote 2",
      "metadata": {}
    },
    {
      "cell_type": "code",
      "source": "# 2-6\nfamous_person = \"Wayne Gretzky\"\nmessage = famous_person + \" once said: \\\"You miss 100 percent of the shots you don't take.\\\"\"\nprint(message)",
      "metadata": {
        "trusted": true
      },
      "execution_count": 14,
      "outputs": [
        {
          "name": "stdout",
          "text": "Wayne Gretzky once said: \"You miss 100 percent of the shots you don't take.\"\n",
          "output_type": "stream"
        }
      ]
    },
    {
      "cell_type": "markdown",
      "source": "## 2-7. Stripping Names",
      "metadata": {}
    },
    {
      "cell_type": "code",
      "source": "# 2-7\nname = \"    \\n\\tKrzysztof   \\t \\n \\n\"\nprint(name)\nprint(name.lstrip())\nprint(name.rstrip())\nprint(name.strip())",
      "metadata": {
        "trusted": true
      },
      "execution_count": 17,
      "outputs": [
        {
          "name": "stdout",
          "text": "    \n\tKrzysztof   \t \n \n\nKrzysztof   \t \n \n\n    \n\tKrzysztof\nKrzysztof\n",
          "output_type": "stream"
        }
      ]
    },
    {
      "cell_type": "markdown",
      "source": "## 2-10. Adding Comments",
      "metadata": {}
    },
    {
      "cell_type": "code",
      "source": "# 2-10\n# Alyssa Williams, 9/24/23, 2-1\n# Storing a message under a variable then printing it\nmsg = \"Haze like a fever, I fell like a dreamer for sweet tea and lemonade, it clings to my T-shirt, it's loud and it lingers designed to suffocate\"\nprint(msg)\n\n# 2-2\n# Alyssa Williams, 9/24/23, 2-1\n# Storing a message under a variable then printing it, then changing the message in that variable then printing it again\nmsg = \"Evil eye crawling up my spine, walk into my mind, all my life I'm waiting on a sign I can barely find\"\nprint(msg)\n\nmsg = \"Got me feeling like I'm crossing over, a second presence in the corner of my eye\"\nprint(msg)",
      "metadata": {
        "trusted": true
      },
      "execution_count": 18,
      "outputs": [
        {
          "name": "stdout",
          "text": "Haze like a fever, I fell like a dreamer for sweet tea and lemonade, it clings to my T-shirt, it's loud and it lingers designed to suffocate\nEvil eye crawling up my spine, walk into my mind, all my life I'm waiting on a sign I can barely find\nGot me feeling like I'm crossing over, a second presence in the corner of my eye\n",
          "output_type": "stream"
        }
      ]
    }
  ]
}